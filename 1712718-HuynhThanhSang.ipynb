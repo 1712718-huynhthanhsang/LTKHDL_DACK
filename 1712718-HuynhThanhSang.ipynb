{
 "cells": [
  {
   "cell_type": "markdown",
   "metadata": {},
   "source": [
    "## ĐỒ ÁN CUỐI KÌ\n",
    "\n",
    "\n",
    "Họ tên: Huỳnh Thanh Sang\n",
    "\n",
    "MSSV: 1712718"
   ]
  },
  {
   "cell_type": "markdown",
   "metadata": {
    "Collapsed": "false"
   },
   "source": [
    "---"
   ]
  },
  {
   "cell_type": "markdown",
   "metadata": {},
   "source": [
    "## Import"
   ]
  },
  {
   "cell_type": "code",
   "execution_count": 1,
   "metadata": {},
   "outputs": [],
   "source": [
    "%matplotlib inline\n",
    "import matplotlib.pyplot as plt\n",
    "import pandas as pd\n",
    "import numpy as np"
   ]
  },
  {
   "cell_type": "markdown",
   "metadata": {},
   "source": [
    "## Lấy dữ liệu"
   ]
  },
  {
   "cell_type": "markdown",
   "metadata": {},
   "source": [
    "Dữ liệu sử dụng trong đồ án này là file \"beer_reviews.csv\" đây là dữ liệu đánh giá về bia từ BeerAdvocates. Đây là dataset được thảo luận trong buổi nói chuyện \"How to hire and test for data skills: A one-size-fits-all interview kit\" từ https://conferences.oreilly.com/strata/strata-ny-2017/public/schedule/detail/59542. Dữ liệu lớn nên không thể upload lên github nên mình sẽ để link [ở đây](https://www.kaggle.com/rdoume/beerreviews)\n"
   ]
  },
  {
   "cell_type": "markdown",
   "metadata": {},
   "source": [
    "## Khám phá dữ liệu"
   ]
  },
  {
   "cell_type": "code",
   "execution_count": 2,
   "metadata": {},
   "outputs": [
    {
     "data": {
      "text/html": [
       "<div>\n",
       "<style scoped>\n",
       "    .dataframe tbody tr th:only-of-type {\n",
       "        vertical-align: middle;\n",
       "    }\n",
       "\n",
       "    .dataframe tbody tr th {\n",
       "        vertical-align: top;\n",
       "    }\n",
       "\n",
       "    .dataframe thead th {\n",
       "        text-align: right;\n",
       "    }\n",
       "</style>\n",
       "<table border=\"1\" class=\"dataframe\">\n",
       "  <thead>\n",
       "    <tr style=\"text-align: right;\">\n",
       "      <th></th>\n",
       "      <th>brewery_id</th>\n",
       "      <th>brewery_name</th>\n",
       "      <th>review_time</th>\n",
       "      <th>review_overall</th>\n",
       "      <th>review_aroma</th>\n",
       "      <th>review_appearance</th>\n",
       "      <th>review_profilename</th>\n",
       "      <th>beer_style</th>\n",
       "      <th>review_palate</th>\n",
       "      <th>review_taste</th>\n",
       "      <th>beer_name</th>\n",
       "      <th>beer_abv</th>\n",
       "      <th>beer_beerid</th>\n",
       "    </tr>\n",
       "  </thead>\n",
       "  <tbody>\n",
       "    <tr>\n",
       "      <th>0</th>\n",
       "      <td>10325</td>\n",
       "      <td>Vecchio Birraio</td>\n",
       "      <td>1234817823</td>\n",
       "      <td>1.5</td>\n",
       "      <td>2.0</td>\n",
       "      <td>2.5</td>\n",
       "      <td>stcules</td>\n",
       "      <td>Hefeweizen</td>\n",
       "      <td>1.5</td>\n",
       "      <td>1.5</td>\n",
       "      <td>Sausa Weizen</td>\n",
       "      <td>5.0</td>\n",
       "      <td>47986</td>\n",
       "    </tr>\n",
       "    <tr>\n",
       "      <th>1</th>\n",
       "      <td>10325</td>\n",
       "      <td>Vecchio Birraio</td>\n",
       "      <td>1235915097</td>\n",
       "      <td>3.0</td>\n",
       "      <td>2.5</td>\n",
       "      <td>3.0</td>\n",
       "      <td>stcules</td>\n",
       "      <td>English Strong Ale</td>\n",
       "      <td>3.0</td>\n",
       "      <td>3.0</td>\n",
       "      <td>Red Moon</td>\n",
       "      <td>6.2</td>\n",
       "      <td>48213</td>\n",
       "    </tr>\n",
       "    <tr>\n",
       "      <th>2</th>\n",
       "      <td>10325</td>\n",
       "      <td>Vecchio Birraio</td>\n",
       "      <td>1235916604</td>\n",
       "      <td>3.0</td>\n",
       "      <td>2.5</td>\n",
       "      <td>3.0</td>\n",
       "      <td>stcules</td>\n",
       "      <td>Foreign / Export Stout</td>\n",
       "      <td>3.0</td>\n",
       "      <td>3.0</td>\n",
       "      <td>Black Horse Black Beer</td>\n",
       "      <td>6.5</td>\n",
       "      <td>48215</td>\n",
       "    </tr>\n",
       "    <tr>\n",
       "      <th>3</th>\n",
       "      <td>10325</td>\n",
       "      <td>Vecchio Birraio</td>\n",
       "      <td>1234725145</td>\n",
       "      <td>3.0</td>\n",
       "      <td>3.0</td>\n",
       "      <td>3.5</td>\n",
       "      <td>stcules</td>\n",
       "      <td>German Pilsener</td>\n",
       "      <td>2.5</td>\n",
       "      <td>3.0</td>\n",
       "      <td>Sausa Pils</td>\n",
       "      <td>5.0</td>\n",
       "      <td>47969</td>\n",
       "    </tr>\n",
       "    <tr>\n",
       "      <th>4</th>\n",
       "      <td>1075</td>\n",
       "      <td>Caldera Brewing Company</td>\n",
       "      <td>1293735206</td>\n",
       "      <td>4.0</td>\n",
       "      <td>4.5</td>\n",
       "      <td>4.0</td>\n",
       "      <td>johnmichaelsen</td>\n",
       "      <td>American Double / Imperial IPA</td>\n",
       "      <td>4.0</td>\n",
       "      <td>4.5</td>\n",
       "      <td>Cauldron DIPA</td>\n",
       "      <td>7.7</td>\n",
       "      <td>64883</td>\n",
       "    </tr>\n",
       "    <tr>\n",
       "      <th>...</th>\n",
       "      <td>...</td>\n",
       "      <td>...</td>\n",
       "      <td>...</td>\n",
       "      <td>...</td>\n",
       "      <td>...</td>\n",
       "      <td>...</td>\n",
       "      <td>...</td>\n",
       "      <td>...</td>\n",
       "      <td>...</td>\n",
       "      <td>...</td>\n",
       "      <td>...</td>\n",
       "      <td>...</td>\n",
       "      <td>...</td>\n",
       "    </tr>\n",
       "    <tr>\n",
       "      <th>1586609</th>\n",
       "      <td>14359</td>\n",
       "      <td>The Defiant Brewing Company</td>\n",
       "      <td>1162684892</td>\n",
       "      <td>5.0</td>\n",
       "      <td>4.0</td>\n",
       "      <td>3.5</td>\n",
       "      <td>maddogruss</td>\n",
       "      <td>Pumpkin Ale</td>\n",
       "      <td>4.0</td>\n",
       "      <td>4.0</td>\n",
       "      <td>The Horseman's Ale</td>\n",
       "      <td>5.2</td>\n",
       "      <td>33061</td>\n",
       "    </tr>\n",
       "    <tr>\n",
       "      <th>1586610</th>\n",
       "      <td>14359</td>\n",
       "      <td>The Defiant Brewing Company</td>\n",
       "      <td>1161048566</td>\n",
       "      <td>4.0</td>\n",
       "      <td>5.0</td>\n",
       "      <td>2.5</td>\n",
       "      <td>yelterdow</td>\n",
       "      <td>Pumpkin Ale</td>\n",
       "      <td>2.0</td>\n",
       "      <td>4.0</td>\n",
       "      <td>The Horseman's Ale</td>\n",
       "      <td>5.2</td>\n",
       "      <td>33061</td>\n",
       "    </tr>\n",
       "    <tr>\n",
       "      <th>1586611</th>\n",
       "      <td>14359</td>\n",
       "      <td>The Defiant Brewing Company</td>\n",
       "      <td>1160702513</td>\n",
       "      <td>4.5</td>\n",
       "      <td>3.5</td>\n",
       "      <td>3.0</td>\n",
       "      <td>TongoRad</td>\n",
       "      <td>Pumpkin Ale</td>\n",
       "      <td>3.5</td>\n",
       "      <td>4.0</td>\n",
       "      <td>The Horseman's Ale</td>\n",
       "      <td>5.2</td>\n",
       "      <td>33061</td>\n",
       "    </tr>\n",
       "    <tr>\n",
       "      <th>1586612</th>\n",
       "      <td>14359</td>\n",
       "      <td>The Defiant Brewing Company</td>\n",
       "      <td>1160023044</td>\n",
       "      <td>4.0</td>\n",
       "      <td>4.5</td>\n",
       "      <td>4.5</td>\n",
       "      <td>dherling</td>\n",
       "      <td>Pumpkin Ale</td>\n",
       "      <td>4.5</td>\n",
       "      <td>4.5</td>\n",
       "      <td>The Horseman's Ale</td>\n",
       "      <td>5.2</td>\n",
       "      <td>33061</td>\n",
       "    </tr>\n",
       "    <tr>\n",
       "      <th>1586613</th>\n",
       "      <td>14359</td>\n",
       "      <td>The Defiant Brewing Company</td>\n",
       "      <td>1160005319</td>\n",
       "      <td>5.0</td>\n",
       "      <td>4.5</td>\n",
       "      <td>4.5</td>\n",
       "      <td>cbl2</td>\n",
       "      <td>Pumpkin Ale</td>\n",
       "      <td>4.5</td>\n",
       "      <td>4.5</td>\n",
       "      <td>The Horseman's Ale</td>\n",
       "      <td>5.2</td>\n",
       "      <td>33061</td>\n",
       "    </tr>\n",
       "  </tbody>\n",
       "</table>\n",
       "<p>1586614 rows × 13 columns</p>\n",
       "</div>"
      ],
      "text/plain": [
       "         brewery_id                 brewery_name  review_time  review_overall  \\\n",
       "0             10325              Vecchio Birraio   1234817823             1.5   \n",
       "1             10325              Vecchio Birraio   1235915097             3.0   \n",
       "2             10325              Vecchio Birraio   1235916604             3.0   \n",
       "3             10325              Vecchio Birraio   1234725145             3.0   \n",
       "4              1075      Caldera Brewing Company   1293735206             4.0   \n",
       "...             ...                          ...          ...             ...   \n",
       "1586609       14359  The Defiant Brewing Company   1162684892             5.0   \n",
       "1586610       14359  The Defiant Brewing Company   1161048566             4.0   \n",
       "1586611       14359  The Defiant Brewing Company   1160702513             4.5   \n",
       "1586612       14359  The Defiant Brewing Company   1160023044             4.0   \n",
       "1586613       14359  The Defiant Brewing Company   1160005319             5.0   \n",
       "\n",
       "         review_aroma  review_appearance review_profilename  \\\n",
       "0                 2.0                2.5            stcules   \n",
       "1                 2.5                3.0            stcules   \n",
       "2                 2.5                3.0            stcules   \n",
       "3                 3.0                3.5            stcules   \n",
       "4                 4.5                4.0     johnmichaelsen   \n",
       "...               ...                ...                ...   \n",
       "1586609           4.0                3.5         maddogruss   \n",
       "1586610           5.0                2.5          yelterdow   \n",
       "1586611           3.5                3.0           TongoRad   \n",
       "1586612           4.5                4.5           dherling   \n",
       "1586613           4.5                4.5               cbl2   \n",
       "\n",
       "                             beer_style  review_palate  review_taste  \\\n",
       "0                            Hefeweizen            1.5           1.5   \n",
       "1                    English Strong Ale            3.0           3.0   \n",
       "2                Foreign / Export Stout            3.0           3.0   \n",
       "3                       German Pilsener            2.5           3.0   \n",
       "4        American Double / Imperial IPA            4.0           4.5   \n",
       "...                                 ...            ...           ...   \n",
       "1586609                     Pumpkin Ale            4.0           4.0   \n",
       "1586610                     Pumpkin Ale            2.0           4.0   \n",
       "1586611                     Pumpkin Ale            3.5           4.0   \n",
       "1586612                     Pumpkin Ale            4.5           4.5   \n",
       "1586613                     Pumpkin Ale            4.5           4.5   \n",
       "\n",
       "                      beer_name  beer_abv  beer_beerid  \n",
       "0                  Sausa Weizen       5.0        47986  \n",
       "1                      Red Moon       6.2        48213  \n",
       "2        Black Horse Black Beer       6.5        48215  \n",
       "3                    Sausa Pils       5.0        47969  \n",
       "4                 Cauldron DIPA       7.7        64883  \n",
       "...                         ...       ...          ...  \n",
       "1586609      The Horseman's Ale       5.2        33061  \n",
       "1586610      The Horseman's Ale       5.2        33061  \n",
       "1586611      The Horseman's Ale       5.2        33061  \n",
       "1586612      The Horseman's Ale       5.2        33061  \n",
       "1586613      The Horseman's Ale       5.2        33061  \n",
       "\n",
       "[1586614 rows x 13 columns]"
      ]
     },
     "execution_count": 2,
     "metadata": {},
     "output_type": "execute_result"
    }
   ],
   "source": [
    "beer_reviews_df = pd.read_csv(\"beer_reviews.csv\")\n",
    "beer_reviews_df"
   ]
  },
  {
   "cell_type": "markdown",
   "metadata": {},
   "source": [
    "Dữ liệu có 1586614 dòng và 13 cột"
   ]
  },
  {
   "cell_type": "markdown",
   "metadata": {},
   "source": [
    "## Ý nghĩa của mỗi dòng và cột"
   ]
  },
  {
   "cell_type": "markdown",
   "metadata": {},
   "source": [
    "+ Mỗi dòng là một đánh giá của từng người về một loại bia nhất định nào đó.\n",
    "+ Ý nghĩa mỗi cột:\n",
    "    - **brewery_id**: Số ID của nhà máy sản xuất bia.\n",
    "    - **brewery_name**: Tên nhà máy ứng với id của nhà máy.\n",
    "    - **review_time**: Ngày review.\n",
    "    - **review_overall**: Điểm review tổng thể của bia.\n",
    "    - **review_aroma**: Điểm review về mùi thơm của bia.\n",
    "    - **review_appearance**: Điểm review về bề ngoài của chai bia.\n",
    "    - **review_profilename**: Tên profile của người review.\n",
    "    - **beer_style**: Phong cách của bia :)).\n",
    "    - **review_palate**: Điểm cho cảm giác của bia để lại trên vòm miệng.\n",
    "    - **review_taste**: Điểm cho vị của bia.\n",
    "    - **beer_name**: Tên của bia.\n",
    "    - **beer_abv**: Nồng độ cồn của bia.\n",
    "    - **beer_beerid**: Số ID của bia"
   ]
  },
  {
   "cell_type": "markdown",
   "metadata": {},
   "source": [
    "## Kiểu dữ liệu và số lượng giá trị khác rỗng mỗi cột"
   ]
  },
  {
   "cell_type": "code",
   "execution_count": 3,
   "metadata": {},
   "outputs": [
    {
     "name": "stdout",
     "output_type": "stream",
     "text": [
      "<class 'pandas.core.frame.DataFrame'>\n",
      "RangeIndex: 1586614 entries, 0 to 1586613\n",
      "Data columns (total 13 columns):\n",
      " #   Column              Non-Null Count    Dtype  \n",
      "---  ------              --------------    -----  \n",
      " 0   brewery_id          1586614 non-null  int64  \n",
      " 1   brewery_name        1586599 non-null  object \n",
      " 2   review_time         1586614 non-null  int64  \n",
      " 3   review_overall      1586614 non-null  float64\n",
      " 4   review_aroma        1586614 non-null  float64\n",
      " 5   review_appearance   1586614 non-null  float64\n",
      " 6   review_profilename  1586266 non-null  object \n",
      " 7   beer_style          1586614 non-null  object \n",
      " 8   review_palate       1586614 non-null  float64\n",
      " 9   review_taste        1586614 non-null  float64\n",
      " 10  beer_name           1586614 non-null  object \n",
      " 11  beer_abv            1518829 non-null  float64\n",
      " 12  beer_beerid         1586614 non-null  int64  \n",
      "dtypes: float64(6), int64(3), object(4)\n",
      "memory usage: 157.4+ MB\n"
     ]
    }
   ],
   "source": [
    "beer_reviews_df.info()"
   ]
  },
  {
   "cell_type": "markdown",
   "metadata": {},
   "source": [
    "Các cột dạng categorical là: brewery_name, review_profilename, beer_style, beer_name.Các cột còn là là brewery_id, review_time, review_overall, review_aroma, review_appearance, review_palate, review_taste, beer_abv, beer_beerid."
   ]
  },
  {
   "cell_type": "markdown",
   "metadata": {},
   "source": [
    "## Số lượng giá trị thiếu mỗi cột"
   ]
  },
  {
   "cell_type": "code",
   "execution_count": 4,
   "metadata": {},
   "outputs": [
    {
     "data": {
      "text/plain": [
       "brewery_id                0\n",
       "brewery_name             15\n",
       "review_time               0\n",
       "review_overall            0\n",
       "review_aroma              0\n",
       "review_appearance         0\n",
       "review_profilename      348\n",
       "beer_style                0\n",
       "review_palate             0\n",
       "review_taste              0\n",
       "beer_name                 0\n",
       "beer_abv              67785\n",
       "beer_beerid               0\n",
       "dtype: int64"
      ]
     },
     "execution_count": 4,
     "metadata": {},
     "output_type": "execute_result"
    }
   ],
   "source": [
    "beer_reviews_df.isnull().sum()"
   ]
  },
  {
   "cell_type": "markdown",
   "metadata": {},
   "source": [
    "## Tiền xử lí dữ liệu"
   ]
  },
  {
   "cell_type": "markdown",
   "metadata": {},
   "source": [
    "**Chuyển đổi kiểu giá trị cột review_time về dạng datetime**"
   ]
  },
  {
   "cell_type": "markdown",
   "metadata": {},
   "source": [
    "Ta thấy cột review_time đang có kiểu dữ liệu là int64 và chúng ta sẽ không biết được ngày mà reviewer làm bài đánh giá"
   ]
  },
  {
   "cell_type": "code",
   "execution_count": 5,
   "metadata": {},
   "outputs": [],
   "source": [
    "beer_reviews_df.review_time = pd.to_datetime (beer_reviews_df.review_time,unit = 's')"
   ]
  },
  {
   "cell_type": "markdown",
   "metadata": {},
   "source": [
    "**Xóa các dòng bị thiếu giá trị**"
   ]
  },
  {
   "cell_type": "code",
   "execution_count": 6,
   "metadata": {},
   "outputs": [],
   "source": [
    "beer_reviews_df=beer_reviews_df.dropna()"
   ]
  },
  {
   "cell_type": "markdown",
   "metadata": {},
   "source": [
    "**Xóa các dòng bị trùng**"
   ]
  },
  {
   "cell_type": "markdown",
   "metadata": {},
   "source": [
    "Ở đây chúng ta phải xóa các dòng bị trùng vì có thể người đánh giá đã đánh giá nhiều lần để giữ thứ hạng cho dòng bia mà mình yêu thích."
   ]
  },
  {
   "cell_type": "code",
   "execution_count": 7,
   "metadata": {},
   "outputs": [],
   "source": [
    "beer_reviews_df = beer_reviews_df.sort_values(\"review_overall\",ascending=False)\n",
    "beer_reviews_df = beer_reviews_df.drop_duplicates(subset = ['review_profilename','beer_beerid'],keep='first')\n",
    "beer_reviews_df = beer_reviews_df.drop_duplicates(subset = ['review_profilename','beer_name'],keep='first')"
   ]
  },
  {
   "cell_type": "code",
   "execution_count": 8,
   "metadata": {},
   "outputs": [
    {
     "name": "stdout",
     "output_type": "stream",
     "text": [
      "<class 'pandas.core.frame.DataFrame'>\n",
      "Int64Index: 1496263 entries, 1586613 to 39648\n",
      "Data columns (total 13 columns):\n",
      " #   Column              Non-Null Count    Dtype         \n",
      "---  ------              --------------    -----         \n",
      " 0   brewery_id          1496263 non-null  int64         \n",
      " 1   brewery_name        1496263 non-null  object        \n",
      " 2   review_time         1496263 non-null  datetime64[ns]\n",
      " 3   review_overall      1496263 non-null  float64       \n",
      " 4   review_aroma        1496263 non-null  float64       \n",
      " 5   review_appearance   1496263 non-null  float64       \n",
      " 6   review_profilename  1496263 non-null  object        \n",
      " 7   beer_style          1496263 non-null  object        \n",
      " 8   review_palate       1496263 non-null  float64       \n",
      " 9   review_taste        1496263 non-null  float64       \n",
      " 10  beer_name           1496263 non-null  object        \n",
      " 11  beer_abv            1496263 non-null  float64       \n",
      " 12  beer_beerid         1496263 non-null  int64         \n",
      "dtypes: datetime64[ns](1), float64(6), int64(2), object(4)\n",
      "memory usage: 159.8+ MB\n"
     ]
    }
   ],
   "source": [
    "beer_reviews_df.info()"
   ]
  },
  {
   "cell_type": "markdown",
   "metadata": {},
   "source": [
    "**Loại bỏ điểm outlier**"
   ]
  },
  {
   "cell_type": "code",
   "execution_count": 9,
   "metadata": {},
   "outputs": [
    {
     "data": {
      "text/html": [
       "<div>\n",
       "<style scoped>\n",
       "    .dataframe tbody tr th:only-of-type {\n",
       "        vertical-align: middle;\n",
       "    }\n",
       "\n",
       "    .dataframe tbody tr th {\n",
       "        vertical-align: top;\n",
       "    }\n",
       "\n",
       "    .dataframe thead th {\n",
       "        text-align: right;\n",
       "    }\n",
       "</style>\n",
       "<table border=\"1\" class=\"dataframe\">\n",
       "  <thead>\n",
       "    <tr style=\"text-align: right;\">\n",
       "      <th></th>\n",
       "      <th>brewery_id</th>\n",
       "      <th>review_overall</th>\n",
       "      <th>review_aroma</th>\n",
       "      <th>review_appearance</th>\n",
       "      <th>review_palate</th>\n",
       "      <th>review_taste</th>\n",
       "      <th>beer_abv</th>\n",
       "      <th>beer_beerid</th>\n",
       "    </tr>\n",
       "  </thead>\n",
       "  <tbody>\n",
       "    <tr>\n",
       "      <th>count</th>\n",
       "      <td>1496263.00</td>\n",
       "      <td>1496263.00</td>\n",
       "      <td>1496263.00</td>\n",
       "      <td>1496263.00</td>\n",
       "      <td>1496263.00</td>\n",
       "      <td>1496263.00</td>\n",
       "      <td>1496263.00</td>\n",
       "      <td>1496263.00</td>\n",
       "    </tr>\n",
       "    <tr>\n",
       "      <th>mean</th>\n",
       "      <td>3068.78</td>\n",
       "      <td>3.83</td>\n",
       "      <td>3.75</td>\n",
       "      <td>3.85</td>\n",
       "      <td>3.75</td>\n",
       "      <td>3.80</td>\n",
       "      <td>7.05</td>\n",
       "      <td>21445.02</td>\n",
       "    </tr>\n",
       "    <tr>\n",
       "      <th>std</th>\n",
       "      <td>5541.95</td>\n",
       "      <td>0.72</td>\n",
       "      <td>0.70</td>\n",
       "      <td>0.61</td>\n",
       "      <td>0.68</td>\n",
       "      <td>0.73</td>\n",
       "      <td>2.33</td>\n",
       "      <td>21800.60</td>\n",
       "    </tr>\n",
       "    <tr>\n",
       "      <th>min</th>\n",
       "      <td>1.00</td>\n",
       "      <td>0.00</td>\n",
       "      <td>1.00</td>\n",
       "      <td>0.00</td>\n",
       "      <td>1.00</td>\n",
       "      <td>1.00</td>\n",
       "      <td>0.01</td>\n",
       "      <td>5.00</td>\n",
       "    </tr>\n",
       "    <tr>\n",
       "      <th>25%</th>\n",
       "      <td>141.00</td>\n",
       "      <td>3.50</td>\n",
       "      <td>3.50</td>\n",
       "      <td>3.50</td>\n",
       "      <td>3.50</td>\n",
       "      <td>3.50</td>\n",
       "      <td>5.20</td>\n",
       "      <td>1655.00</td>\n",
       "    </tr>\n",
       "    <tr>\n",
       "      <th>50%</th>\n",
       "      <td>413.00</td>\n",
       "      <td>4.00</td>\n",
       "      <td>4.00</td>\n",
       "      <td>4.00</td>\n",
       "      <td>4.00</td>\n",
       "      <td>4.00</td>\n",
       "      <td>6.50</td>\n",
       "      <td>12962.00</td>\n",
       "    </tr>\n",
       "    <tr>\n",
       "      <th>75%</th>\n",
       "      <td>2250.00</td>\n",
       "      <td>4.50</td>\n",
       "      <td>4.00</td>\n",
       "      <td>4.00</td>\n",
       "      <td>4.00</td>\n",
       "      <td>4.50</td>\n",
       "      <td>8.50</td>\n",
       "      <td>39286.00</td>\n",
       "    </tr>\n",
       "    <tr>\n",
       "      <th>max</th>\n",
       "      <td>28003.00</td>\n",
       "      <td>5.00</td>\n",
       "      <td>5.00</td>\n",
       "      <td>5.00</td>\n",
       "      <td>5.00</td>\n",
       "      <td>5.00</td>\n",
       "      <td>57.70</td>\n",
       "      <td>77316.00</td>\n",
       "    </tr>\n",
       "  </tbody>\n",
       "</table>\n",
       "</div>"
      ],
      "text/plain": [
       "       brewery_id  review_overall  review_aroma  review_appearance  \\\n",
       "count  1496263.00      1496263.00    1496263.00         1496263.00   \n",
       "mean      3068.78            3.83          3.75               3.85   \n",
       "std       5541.95            0.72          0.70               0.61   \n",
       "min          1.00            0.00          1.00               0.00   \n",
       "25%        141.00            3.50          3.50               3.50   \n",
       "50%        413.00            4.00          4.00               4.00   \n",
       "75%       2250.00            4.50          4.00               4.00   \n",
       "max      28003.00            5.00          5.00               5.00   \n",
       "\n",
       "       review_palate  review_taste    beer_abv  beer_beerid  \n",
       "count     1496263.00    1496263.00  1496263.00   1496263.00  \n",
       "mean            3.75          3.80        7.05     21445.02  \n",
       "std             0.68          0.73        2.33     21800.60  \n",
       "min             1.00          1.00        0.01         5.00  \n",
       "25%             3.50          3.50        5.20      1655.00  \n",
       "50%             4.00          4.00        6.50     12962.00  \n",
       "75%             4.00          4.50        8.50     39286.00  \n",
       "max             5.00          5.00       57.70     77316.00  "
      ]
     },
     "execution_count": 9,
     "metadata": {},
     "output_type": "execute_result"
    }
   ],
   "source": [
    "round(beer_reviews_df.describe(),2) #Làm tròn 2 chữ số thập phân "
   ]
  },
  {
   "cell_type": "markdown",
   "metadata": {},
   "source": [
    "Ta thấy trong phần đánh giá điểm thì thang điểm sẽ được giới hạn trong [1:5] nhưng ta thấy trong cột review_overall và cột review_appearance có giá trị min là 0.00 nên ta cần loại bỏ những điểm outlier này."
   ]
  },
  {
   "cell_type": "code",
   "execution_count": 10,
   "metadata": {},
   "outputs": [],
   "source": [
    "beer_reviews_df = beer_reviews_df.loc[(beer_reviews_df.review_overall>=1) & (beer_reviews_df.review_appearance>=1)]"
   ]
  },
  {
   "cell_type": "code",
   "execution_count": 11,
   "metadata": {},
   "outputs": [
    {
     "data": {
      "text/html": [
       "<div>\n",
       "<style scoped>\n",
       "    .dataframe tbody tr th:only-of-type {\n",
       "        vertical-align: middle;\n",
       "    }\n",
       "\n",
       "    .dataframe tbody tr th {\n",
       "        vertical-align: top;\n",
       "    }\n",
       "\n",
       "    .dataframe thead th {\n",
       "        text-align: right;\n",
       "    }\n",
       "</style>\n",
       "<table border=\"1\" class=\"dataframe\">\n",
       "  <thead>\n",
       "    <tr style=\"text-align: right;\">\n",
       "      <th></th>\n",
       "      <th>brewery_id</th>\n",
       "      <th>review_overall</th>\n",
       "      <th>review_aroma</th>\n",
       "      <th>review_appearance</th>\n",
       "      <th>review_palate</th>\n",
       "      <th>review_taste</th>\n",
       "      <th>beer_abv</th>\n",
       "      <th>beer_beerid</th>\n",
       "    </tr>\n",
       "  </thead>\n",
       "  <tbody>\n",
       "    <tr>\n",
       "      <th>count</th>\n",
       "      <td>1496256.00</td>\n",
       "      <td>1496256.00</td>\n",
       "      <td>1496256.00</td>\n",
       "      <td>1496256.00</td>\n",
       "      <td>1496256.00</td>\n",
       "      <td>1496256.00</td>\n",
       "      <td>1496256.00</td>\n",
       "      <td>1496256.00</td>\n",
       "    </tr>\n",
       "    <tr>\n",
       "      <th>mean</th>\n",
       "      <td>3068.78</td>\n",
       "      <td>3.83</td>\n",
       "      <td>3.75</td>\n",
       "      <td>3.85</td>\n",
       "      <td>3.75</td>\n",
       "      <td>3.80</td>\n",
       "      <td>7.05</td>\n",
       "      <td>21445.10</td>\n",
       "    </tr>\n",
       "    <tr>\n",
       "      <th>std</th>\n",
       "      <td>5541.96</td>\n",
       "      <td>0.72</td>\n",
       "      <td>0.70</td>\n",
       "      <td>0.61</td>\n",
       "      <td>0.68</td>\n",
       "      <td>0.73</td>\n",
       "      <td>2.33</td>\n",
       "      <td>21800.62</td>\n",
       "    </tr>\n",
       "    <tr>\n",
       "      <th>min</th>\n",
       "      <td>1.00</td>\n",
       "      <td>1.00</td>\n",
       "      <td>1.00</td>\n",
       "      <td>1.00</td>\n",
       "      <td>1.00</td>\n",
       "      <td>1.00</td>\n",
       "      <td>0.01</td>\n",
       "      <td>5.00</td>\n",
       "    </tr>\n",
       "    <tr>\n",
       "      <th>25%</th>\n",
       "      <td>141.00</td>\n",
       "      <td>3.50</td>\n",
       "      <td>3.50</td>\n",
       "      <td>3.50</td>\n",
       "      <td>3.50</td>\n",
       "      <td>3.50</td>\n",
       "      <td>5.20</td>\n",
       "      <td>1655.00</td>\n",
       "    </tr>\n",
       "    <tr>\n",
       "      <th>50%</th>\n",
       "      <td>413.00</td>\n",
       "      <td>4.00</td>\n",
       "      <td>4.00</td>\n",
       "      <td>4.00</td>\n",
       "      <td>4.00</td>\n",
       "      <td>4.00</td>\n",
       "      <td>6.50</td>\n",
       "      <td>12962.00</td>\n",
       "    </tr>\n",
       "    <tr>\n",
       "      <th>75%</th>\n",
       "      <td>2250.00</td>\n",
       "      <td>4.50</td>\n",
       "      <td>4.00</td>\n",
       "      <td>4.00</td>\n",
       "      <td>4.00</td>\n",
       "      <td>4.50</td>\n",
       "      <td>8.50</td>\n",
       "      <td>39286.00</td>\n",
       "    </tr>\n",
       "    <tr>\n",
       "      <th>max</th>\n",
       "      <td>28003.00</td>\n",
       "      <td>5.00</td>\n",
       "      <td>5.00</td>\n",
       "      <td>5.00</td>\n",
       "      <td>5.00</td>\n",
       "      <td>5.00</td>\n",
       "      <td>57.70</td>\n",
       "      <td>77316.00</td>\n",
       "    </tr>\n",
       "  </tbody>\n",
       "</table>\n",
       "</div>"
      ],
      "text/plain": [
       "       brewery_id  review_overall  review_aroma  review_appearance  \\\n",
       "count  1496256.00      1496256.00    1496256.00         1496256.00   \n",
       "mean      3068.78            3.83          3.75               3.85   \n",
       "std       5541.96            0.72          0.70               0.61   \n",
       "min          1.00            1.00          1.00               1.00   \n",
       "25%        141.00            3.50          3.50               3.50   \n",
       "50%        413.00            4.00          4.00               4.00   \n",
       "75%       2250.00            4.50          4.00               4.00   \n",
       "max      28003.00            5.00          5.00               5.00   \n",
       "\n",
       "       review_palate  review_taste    beer_abv  beer_beerid  \n",
       "count     1496256.00    1496256.00  1496256.00   1496256.00  \n",
       "mean            3.75          3.80        7.05     21445.10  \n",
       "std             0.68          0.73        2.33     21800.62  \n",
       "min             1.00          1.00        0.01         5.00  \n",
       "25%             3.50          3.50        5.20      1655.00  \n",
       "50%             4.00          4.00        6.50     12962.00  \n",
       "75%             4.00          4.50        8.50     39286.00  \n",
       "max             5.00          5.00       57.70     77316.00  "
      ]
     },
     "execution_count": 11,
     "metadata": {},
     "output_type": "execute_result"
    }
   ],
   "source": [
    "round(beer_reviews_df.describe(),2)"
   ]
  },
  {
   "cell_type": "markdown",
   "metadata": {},
   "source": [
    "**Sau khi xóa các điểm outlier thì dữ liệu còn lại các giá trị nằm trong đoạn từ [1:5]**"
   ]
  },
  {
   "cell_type": "code",
   "execution_count": 12,
   "metadata": {},
   "outputs": [
    {
     "name": "stdout",
     "output_type": "stream",
     "text": [
      "Kết thúc giai đoạn tiền xử lí\n",
      "Số dòng:  1496256\n",
      "Số cột:  13\n"
     ]
    }
   ],
   "source": [
    "num_cols = beer_reviews_df.shape[1]\n",
    "num_rows = beer_reviews_df.shape[0]\n",
    "\n",
    "print(\"Kết thúc giai đoạn tiền xử lí\")\n",
    "print(\"Số dòng: \", num_rows) \n",
    "print(\"Số cột: \", num_cols)"
   ]
  },
  {
   "cell_type": "code",
   "execution_count": 13,
   "metadata": {},
   "outputs": [
    {
     "data": {
      "text/html": [
       "<div>\n",
       "<style scoped>\n",
       "    .dataframe tbody tr th:only-of-type {\n",
       "        vertical-align: middle;\n",
       "    }\n",
       "\n",
       "    .dataframe tbody tr th {\n",
       "        vertical-align: top;\n",
       "    }\n",
       "\n",
       "    .dataframe thead th {\n",
       "        text-align: right;\n",
       "    }\n",
       "</style>\n",
       "<table border=\"1\" class=\"dataframe\">\n",
       "  <thead>\n",
       "    <tr style=\"text-align: right;\">\n",
       "      <th></th>\n",
       "      <th>brewery_id</th>\n",
       "      <th>brewery_name</th>\n",
       "      <th>review_time</th>\n",
       "      <th>review_overall</th>\n",
       "      <th>review_aroma</th>\n",
       "      <th>review_appearance</th>\n",
       "      <th>review_profilename</th>\n",
       "      <th>beer_style</th>\n",
       "      <th>review_palate</th>\n",
       "      <th>review_taste</th>\n",
       "      <th>beer_name</th>\n",
       "      <th>beer_abv</th>\n",
       "      <th>beer_beerid</th>\n",
       "    </tr>\n",
       "  </thead>\n",
       "  <tbody>\n",
       "    <tr>\n",
       "      <th>1586613</th>\n",
       "      <td>14359</td>\n",
       "      <td>The Defiant Brewing Company</td>\n",
       "      <td>2006-10-04 23:41:59</td>\n",
       "      <td>5.0</td>\n",
       "      <td>4.5</td>\n",
       "      <td>4.5</td>\n",
       "      <td>cbl2</td>\n",
       "      <td>Pumpkin Ale</td>\n",
       "      <td>4.5</td>\n",
       "      <td>4.5</td>\n",
       "      <td>The Horseman's Ale</td>\n",
       "      <td>5.20</td>\n",
       "      <td>33061</td>\n",
       "    </tr>\n",
       "    <tr>\n",
       "      <th>1054114</th>\n",
       "      <td>718</td>\n",
       "      <td>Brouwerij Bavik</td>\n",
       "      <td>2006-08-03 11:48:03</td>\n",
       "      <td>5.0</td>\n",
       "      <td>4.0</td>\n",
       "      <td>4.5</td>\n",
       "      <td>BEERchitect</td>\n",
       "      <td>Witbier</td>\n",
       "      <td>4.5</td>\n",
       "      <td>4.0</td>\n",
       "      <td>Wittekerke</td>\n",
       "      <td>5.00</td>\n",
       "      <td>2477</td>\n",
       "    </tr>\n",
       "    <tr>\n",
       "      <th>783659</th>\n",
       "      <td>13014</td>\n",
       "      <td>Surly Brewing Company</td>\n",
       "      <td>2011-06-13 13:00:36</td>\n",
       "      <td>5.0</td>\n",
       "      <td>5.0</td>\n",
       "      <td>5.0</td>\n",
       "      <td>deadbody</td>\n",
       "      <td>American Brown Ale</td>\n",
       "      <td>5.0</td>\n",
       "      <td>5.0</td>\n",
       "      <td>Moe's Bender</td>\n",
       "      <td>5.52</td>\n",
       "      <td>58120</td>\n",
       "    </tr>\n",
       "    <tr>\n",
       "      <th>783658</th>\n",
       "      <td>13014</td>\n",
       "      <td>Surly Brewing Company</td>\n",
       "      <td>2011-06-27 15:25:22</td>\n",
       "      <td>5.0</td>\n",
       "      <td>5.0</td>\n",
       "      <td>4.0</td>\n",
       "      <td>pdeme</td>\n",
       "      <td>American Brown Ale</td>\n",
       "      <td>4.5</td>\n",
       "      <td>5.0</td>\n",
       "      <td>Moe's Bender</td>\n",
       "      <td>5.52</td>\n",
       "      <td>58120</td>\n",
       "    </tr>\n",
       "    <tr>\n",
       "      <th>1182432</th>\n",
       "      <td>10099</td>\n",
       "      <td>Dogfish Head Brewery</td>\n",
       "      <td>2005-12-01 04:09:23</td>\n",
       "      <td>5.0</td>\n",
       "      <td>4.5</td>\n",
       "      <td>4.0</td>\n",
       "      <td>Sayson</td>\n",
       "      <td>American Double / Imperial Stout</td>\n",
       "      <td>4.5</td>\n",
       "      <td>4.0</td>\n",
       "      <td>World Wide Stout</td>\n",
       "      <td>18.00</td>\n",
       "      <td>2392</td>\n",
       "    </tr>\n",
       "  </tbody>\n",
       "</table>\n",
       "</div>"
      ],
      "text/plain": [
       "         brewery_id                 brewery_name         review_time  \\\n",
       "1586613       14359  The Defiant Brewing Company 2006-10-04 23:41:59   \n",
       "1054114         718              Brouwerij Bavik 2006-08-03 11:48:03   \n",
       "783659        13014        Surly Brewing Company 2011-06-13 13:00:36   \n",
       "783658        13014        Surly Brewing Company 2011-06-27 15:25:22   \n",
       "1182432       10099         Dogfish Head Brewery 2005-12-01 04:09:23   \n",
       "\n",
       "         review_overall  review_aroma  review_appearance review_profilename  \\\n",
       "1586613             5.0           4.5                4.5               cbl2   \n",
       "1054114             5.0           4.0                4.5        BEERchitect   \n",
       "783659              5.0           5.0                5.0           deadbody   \n",
       "783658              5.0           5.0                4.0              pdeme   \n",
       "1182432             5.0           4.5                4.0             Sayson   \n",
       "\n",
       "                               beer_style  review_palate  review_taste  \\\n",
       "1586613                       Pumpkin Ale            4.5           4.5   \n",
       "1054114                           Witbier            4.5           4.0   \n",
       "783659                 American Brown Ale            5.0           5.0   \n",
       "783658                 American Brown Ale            4.5           5.0   \n",
       "1182432  American Double / Imperial Stout            4.5           4.0   \n",
       "\n",
       "                  beer_name  beer_abv  beer_beerid  \n",
       "1586613  The Horseman's Ale      5.20        33061  \n",
       "1054114          Wittekerke      5.00         2477  \n",
       "783659         Moe's Bender      5.52        58120  \n",
       "783658         Moe's Bender      5.52        58120  \n",
       "1182432    World Wide Stout     18.00         2392  "
      ]
     },
     "execution_count": 13,
     "metadata": {},
     "output_type": "execute_result"
    }
   ],
   "source": [
    "beer_reviews_df.head(5)"
   ]
  },
  {
   "cell_type": "markdown",
   "metadata": {},
   "source": [
    "## Đưa ra câu hỏi"
   ]
  },
  {
   "cell_type": "markdown",
   "metadata": {},
   "source": [
    "**Lí do chọn data về beer**\n",
    "\n",
    "Ban đầu mình uống bia chỉ thấy mỗi một vị đắng( đầu tiên chắc là heineken) thật sự là không ngon, nhưng từ khi mình được uống bia đen của san miguel, thì mình đã thấy bia này nó thơm nhưng lại ngọt chứ không đắng như những loại bia khác, nên từ đó mình đã đi uống thử các loại bia khác những loại hay thấy trên quán nhậu thì nhận ra có rất nhiều loại uống vào thơm và không hề đắng. Từ đó qua bài này mình muốn gửi tới các bạn những loại bia khác trên thế giới. \n",
    "\n",
    "**Câu hỏi:**\n",
    "+ 5 loại bia được đánh giá tổng thế cao nhất.\n",
    "+ Độ ngon của bia có phụ thuộc qua vẻ bề ngoài chai bia?\n",
    "+ Bia có nồng độ cồn cao thì càng ngon?"
   ]
  },
  {
   "cell_type": "markdown",
   "metadata": {},
   "source": [
    "## Trả lời câu hỏi"
   ]
  },
  {
   "cell_type": "markdown",
   "metadata": {},
   "source": [
    "**Câu hỏi 1: 5 loại bia được đánh giá tổng thế cao nhất**"
   ]
  },
  {
   "cell_type": "code",
   "execution_count": 14,
   "metadata": {},
   "outputs": [
    {
     "data": {
      "text/html": [
       "<div>\n",
       "<style scoped>\n",
       "    .dataframe tbody tr th:only-of-type {\n",
       "        vertical-align: middle;\n",
       "    }\n",
       "\n",
       "    .dataframe tbody tr th {\n",
       "        vertical-align: top;\n",
       "    }\n",
       "\n",
       "    .dataframe thead th {\n",
       "        text-align: right;\n",
       "    }\n",
       "</style>\n",
       "<table border=\"1\" class=\"dataframe\">\n",
       "  <thead>\n",
       "    <tr style=\"text-align: right;\">\n",
       "      <th></th>\n",
       "      <th>mean</th>\n",
       "      <th>size</th>\n",
       "    </tr>\n",
       "    <tr>\n",
       "      <th>beer_name</th>\n",
       "      <th></th>\n",
       "      <th></th>\n",
       "    </tr>\n",
       "  </thead>\n",
       "  <tbody>\n",
       "    <tr>\n",
       "      <th>Kringle's Imperial Stout</th>\n",
       "      <td>5.0</td>\n",
       "      <td>1</td>\n",
       "    </tr>\n",
       "    <tr>\n",
       "      <th>Pioneer American Lager</th>\n",
       "      <td>5.0</td>\n",
       "      <td>1</td>\n",
       "    </tr>\n",
       "    <tr>\n",
       "      <th>Bert's Best Bitter</th>\n",
       "      <td>5.0</td>\n",
       "      <td>1</td>\n",
       "    </tr>\n",
       "    <tr>\n",
       "      <th>Engelbert Moonbeam</th>\n",
       "      <td>5.0</td>\n",
       "      <td>1</td>\n",
       "    </tr>\n",
       "    <tr>\n",
       "      <th>BerlinerWeisster-WeissterBerliner</th>\n",
       "      <td>5.0</td>\n",
       "      <td>1</td>\n",
       "    </tr>\n",
       "    <tr>\n",
       "      <th>...</th>\n",
       "      <td>...</td>\n",
       "      <td>...</td>\n",
       "    </tr>\n",
       "    <tr>\n",
       "      <th>Ndovu Special Malt</th>\n",
       "      <td>1.0</td>\n",
       "      <td>2</td>\n",
       "    </tr>\n",
       "    <tr>\n",
       "      <th>Ginja</th>\n",
       "      <td>1.0</td>\n",
       "      <td>1</td>\n",
       "    </tr>\n",
       "    <tr>\n",
       "      <th>Brown Lager</th>\n",
       "      <td>1.0</td>\n",
       "      <td>1</td>\n",
       "    </tr>\n",
       "    <tr>\n",
       "      <th>LCL Strong Lager</th>\n",
       "      <td>1.0</td>\n",
       "      <td>1</td>\n",
       "    </tr>\n",
       "    <tr>\n",
       "      <th>PWB 360 Lager</th>\n",
       "      <td>1.0</td>\n",
       "      <td>1</td>\n",
       "    </tr>\n",
       "  </tbody>\n",
       "</table>\n",
       "<p>44075 rows × 2 columns</p>\n",
       "</div>"
      ],
      "text/plain": [
       "                                   mean  size\n",
       "beer_name                                    \n",
       "Kringle's Imperial Stout            5.0     1\n",
       "Pioneer American Lager              5.0     1\n",
       "Bert's Best Bitter                  5.0     1\n",
       "Engelbert Moonbeam                  5.0     1\n",
       "BerlinerWeisster-WeissterBerliner   5.0     1\n",
       "...                                 ...   ...\n",
       "Ndovu Special Malt                  1.0     2\n",
       "Ginja                               1.0     1\n",
       "Brown Lager                         1.0     1\n",
       "LCL Strong Lager                    1.0     1\n",
       "PWB 360 Lager                       1.0     1\n",
       "\n",
       "[44075 rows x 2 columns]"
      ]
     },
     "execution_count": 14,
     "metadata": {},
     "output_type": "execute_result"
    }
   ],
   "source": [
    "beer_name_overall = beer_reviews_df.groupby(beer_reviews_df['beer_name'])['review_overall'].agg(['mean', 'size'])\n",
    "beer_name_overall.sort_values('mean', ascending = False)"
   ]
  },
  {
   "cell_type": "markdown",
   "metadata": {},
   "source": [
    "Như ta thấy ở bảng trên thì có một số loại bia chỉ được đánh giá 1 lần và được 5.0 điểm điều này sẽ làm chúng ta không đánh giá được khách quan nhất, vì vậy ở đây ta sẽ lấy các loại bia đã được đánh giá từ 500 lần trở lên để lấy chính xác hơn."
   ]
  },
  {
   "cell_type": "code",
   "execution_count": 15,
   "metadata": {},
   "outputs": [
    {
     "data": {
      "text/html": [
       "<div>\n",
       "<style scoped>\n",
       "    .dataframe tbody tr th:only-of-type {\n",
       "        vertical-align: middle;\n",
       "    }\n",
       "\n",
       "    .dataframe tbody tr th {\n",
       "        vertical-align: top;\n",
       "    }\n",
       "\n",
       "    .dataframe thead th {\n",
       "        text-align: right;\n",
       "    }\n",
       "</style>\n",
       "<table border=\"1\" class=\"dataframe\">\n",
       "  <thead>\n",
       "    <tr style=\"text-align: right;\">\n",
       "      <th></th>\n",
       "      <th>mean</th>\n",
       "      <th>size</th>\n",
       "    </tr>\n",
       "    <tr>\n",
       "      <th>beer_name</th>\n",
       "      <th></th>\n",
       "      <th></th>\n",
       "    </tr>\n",
       "  </thead>\n",
       "  <tbody>\n",
       "    <tr>\n",
       "      <th>Trappist Westvleteren 12</th>\n",
       "      <td>4.617925</td>\n",
       "      <td>1272</td>\n",
       "    </tr>\n",
       "    <tr>\n",
       "      <th>Pliny The Younger</th>\n",
       "      <td>4.600507</td>\n",
       "      <td>592</td>\n",
       "    </tr>\n",
       "    <tr>\n",
       "      <th>Pliny The Elder</th>\n",
       "      <td>4.598273</td>\n",
       "      <td>2432</td>\n",
       "    </tr>\n",
       "    <tr>\n",
       "      <th>Founders CBS Imperial Stout</th>\n",
       "      <td>4.597087</td>\n",
       "      <td>618</td>\n",
       "    </tr>\n",
       "    <tr>\n",
       "      <th>Weihenstephaner Hefeweissbier</th>\n",
       "      <td>4.517683</td>\n",
       "      <td>1951</td>\n",
       "    </tr>\n",
       "  </tbody>\n",
       "</table>\n",
       "</div>"
      ],
      "text/plain": [
       "                                   mean  size\n",
       "beer_name                                    \n",
       "Trappist Westvleteren 12       4.617925  1272\n",
       "Pliny The Younger              4.600507   592\n",
       "Pliny The Elder                4.598273  2432\n",
       "Founders CBS Imperial Stout    4.597087   618\n",
       "Weihenstephaner Hefeweissbier  4.517683  1951"
      ]
     },
     "execution_count": 15,
     "metadata": {},
     "output_type": "execute_result"
    }
   ],
   "source": [
    "beer_name_overall_2 = beer_name_overall.sort_values('size', ascending = False)\n",
    "beer_name_overall_2 = beer_name_overall_2[beer_name_overall_2['size'] >= 500]\n",
    "beer_name_overall_2 = beer_name_overall_2.sort_values('mean', ascending = False)\n",
    "beer_name_overall_2 = beer_name_overall_2[:5]\n",
    "beer_name_overall_2"
   ]
  },
  {
   "cell_type": "markdown",
   "metadata": {},
   "source": [
    "**Kết quả**\n",
    "\n",
    "Sau khi xử lí dữ liệu ta có được top 5 loại bia như bảng trên là:\n",
    "\n",
    "+ **Trappist Westvleteren 12**\n",
    "+ **Pliny The Younger**\n",
    "+ **Pliny The Elder**\n",
    "+ **Founders CBS Imperial Stout**\t\n",
    "+ **Weihenstephaner Hefeweissbier**"
   ]
  },
  {
   "cell_type": "markdown",
   "metadata": {},
   "source": [
    "**Câu hỏi 2: Những chai bia có vẻ ngoài hào nhoàng, đẹp đẽ thì có thơm và ngon hay không?**"
   ]
  },
  {
   "cell_type": "code",
   "execution_count": 16,
   "metadata": {},
   "outputs": [
    {
     "name": "stdout",
     "output_type": "stream",
     "text": [
      "                    mean\n",
      "review_overall          \n",
      "1.0             1.909226\n",
      "1.5             2.200752\n",
      "2.0             2.606241\n",
      "2.5             2.927525\n",
      "3.0             3.242010\n",
      "3.5             3.589049\n",
      "4.0             3.879689\n",
      "4.5             4.124031\n",
      "5.0             4.330920\n"
     ]
    },
    {
     "data": {
      "text/plain": [
       "<matplotlib.axes._subplots.AxesSubplot at 0x15a81189340>"
      ]
     },
     "execution_count": 16,
     "metadata": {},
     "output_type": "execute_result"
    },
    {
     "data": {
      "image/png": "[encoded data removed]",
      "text/plain": [
       "<Figure size 432x288 with 1 Axes>"
      ]
     },
     "metadata": {
      "needs_background": "light"
     },
     "output_type": "display_data"
    }
   ],
   "source": [
    "review_aroma_overall = beer_reviews_df.groupby(beer_reviews_df['review_overall'])['review_aroma'].agg(['mean'])\n",
    "print(review_aroma_overall)\n",
    "review_aroma_overall.plot.barh()"
   ]
  },
  {
   "cell_type": "markdown",
   "metadata": {},
   "source": [
    "**Theo như bar chart thì các loại bia được đánh giá là 5.0 và 4.5 điểm thì thường có 1 cái vẻ ngoài là đẹp cho 1 chai bia. Nhưng liệu nó có đúng không?**"
   ]
  },
  {
   "cell_type": "code",
   "execution_count": 17,
   "metadata": {
    "scrolled": true
   },
   "outputs": [
    {
     "name": "stdout",
     "output_type": "stream",
     "text": [
      "review_overall\n",
      "1.0       125\n",
      "1.5       178\n",
      "2.0       846\n",
      "2.5      1802\n",
      "3.0      7017\n",
      "3.5     24216\n",
      "4.0    110792\n",
      "4.5    125095\n",
      "5.0     53258\n",
      "Name: review_overall, dtype: int64\n"
     ]
    }
   ],
   "source": [
    "review_aroma_overall_2 = beer_reviews_df.groupby(beer_reviews_df['review_aroma'])['review_overall'].value_counts()\n",
    "a = review_aroma_overall_2[5.0] + review_aroma_overall_2[4.5]\n",
    "print(a)"
   ]
  },
  {
   "cell_type": "markdown",
   "metadata": {},
   "source": [
    "Series trên là số lượng của mỗi thang điểm tổng thể cho điểm đánh giá bề ngoài là 4.5 và 5.0. Như đã nói ở trên thì bia có điểm đánh giá 4.5 và 5.0 sẽ được đánh giá là thơm và ngon, nên ở đây ta sẽ so sánh tỉ lệ giữa phần bia được 4.5 và 5.0 điểm với điểm aroma là 4.5 và 5.0 và phàn còn lại."
   ]
  },
  {
   "cell_type": "code",
   "execution_count": 18,
   "metadata": {
    "scrolled": true
   },
   "outputs": [
    {
     "name": "stdout",
     "output_type": "stream",
     "text": [
      "Tỉ lệ:  0.5516146092679592\n"
     ]
    }
   ],
   "source": [
    "grades = np.sort(beer_reviews_df['review_overall'].unique())\n",
    "sum1 = 0\n",
    "sum2 = 0\n",
    "for grade in grades:\n",
    "    if(grade <= 4.0):\n",
    "        sum1 += a[grade]\n",
    "    else:\n",
    "        sum2 += a[grade]\n",
    "\n",
    "print('Tỉ lệ: ',(sum2/(sum2 + sum1)))\n"
   ]
  },
  {
   "cell_type": "markdown",
   "metadata": {},
   "source": [
    "Ở đây ta thấy tỉ lệ của bia có điểm aroma bằng 4.5, 5.0 và điểm overall bằng 4.5, 5.0 với tổng các loại có điểm aroma bằng 4.5, 5.0 là 0.55 nên ta có câu trả lời.\n",
    "\n",
    "**Độ ngon của bia không phụ thuôc vào bề ngoài của bia vì ở đây chênh lệch không quá lớn, nếu tỉ lệ rơi vào khoảng 0.65 trở lên thì ta có thể nói là độ ngon của bia phụ thuộc vào bề ngoài.**"
   ]
  },
  {
   "cell_type": "markdown",
   "metadata": {},
   "source": [
    "**Câu hỏi 3: Bia có nồng độ cồn cao thì càng ngon?**"
   ]
  },
  {
   "cell_type": "code",
   "execution_count": 19,
   "metadata": {
    "scrolled": true
   },
   "outputs": [
    {
     "name": "stdout",
     "output_type": "stream",
     "text": [
      "                    mean\n",
      "review_overall          \n",
      "1.0             6.526774\n",
      "1.5             6.187221\n",
      "2.0             6.327678\n",
      "2.5             6.394533\n",
      "3.0             6.489598\n",
      "3.5             6.876483\n",
      "4.0             7.161656\n",
      "4.5             7.395192\n",
      "5.0             7.459856\n"
     ]
    }
   ],
   "source": [
    "beer_abv_overall = beer_reviews_df.groupby(beer_reviews_df['review_overall'])['beer_abv'].agg(['mean'])\n",
    "print(beer_abv_overall)\n",
    "\n",
    "abv = beer_reviews_df['beer_abv'].unique()"
   ]
  },
  {
   "cell_type": "code",
   "execution_count": 20,
   "metadata": {},
   "outputs": [
    {
     "data": {
      "text/plain": [
       "<matplotlib.axes._subplots.AxesSubplot at 0x15a81829c40>"
      ]
     },
     "execution_count": 20,
     "metadata": {},
     "output_type": "execute_result"
    },
    {
     "data": {
      "image/png": "[encoded data removed]",
      "text/plain": [
       "<Figure size 432x288 with 1 Axes>"
      ]
     },
     "metadata": {
      "needs_background": "light"
     },
     "output_type": "display_data"
    }
   ],
   "source": [
    "beer_abv_overall.plot.barh()"
   ]
  },
  {
   "cell_type": "markdown",
   "metadata": {},
   "source": [
    "Theo trên bảng và bar chart ta thấy các loại bia được đánh giá từ 4.5 trở lên có nồng độ cồn trung bình là từ 7.3 trở lên"
   ]
  },
  {
   "cell_type": "code",
   "execution_count": 21,
   "metadata": {},
   "outputs": [
    {
     "name": "stdout",
     "output_type": "stream",
     "text": [
      "[ 0.   0.1  0.2  0.3  0.4  0.5  0.7  0.8  0.9  1.   1.2  1.3  1.4  1.5\n",
      "  1.7  1.8  1.9  2.   2.1  2.2  2.3  2.4  2.5  2.6  2.7  2.8  2.9  3.\n",
      "  3.1  3.2  3.3  3.4  3.5  3.6  3.7  3.8  3.9  4.   4.1  4.2  4.3  4.4\n",
      "  4.5  4.6  4.7  4.8  4.9  5.   5.1  5.2  5.3  5.4  5.5  5.6  5.7  5.8\n",
      "  5.9  6.   6.1  6.2  6.3  6.4  6.5  6.6  6.7  6.8  6.9  7.   7.1  7.2\n",
      "  7.3  7.4  7.5  7.6  7.7  7.8  7.9  8.   8.1  8.2  8.3  8.4  8.5  8.6\n",
      "  8.7  8.8  8.9  9.   9.1  9.2  9.3  9.4  9.5  9.6  9.7  9.8  9.9 10.\n",
      " 10.1 10.2 10.3 10.4 10.5 10.6 10.7 10.8 10.9 11.  11.1 11.2 11.3 11.4\n",
      " 11.5 11.6 11.7 11.8 11.9 12.  12.1 12.2 12.3 12.4 12.5 12.6 12.7 12.8\n",
      " 12.9 13.  13.1 13.2 13.3 13.4 13.5 13.6 13.7 13.8 13.9 14.  14.1 14.3\n",
      " 14.5 14.6 14.7 14.9 15.  15.1 15.2 15.3 15.4 15.5 15.6 15.9 16.  16.1\n",
      " 16.2 16.3 16.4 16.5 16.8 16.9 17.  17.2 17.4 17.5 18.  18.1 18.2 18.3\n",
      " 18.4 18.5 19.2 19.4 19.5 20.  21.  21.9 22.  24.  25.  26.  27.  28.\n",
      " 29.  30.9 32.  39.  39.4 41.  43.  57.7]\n"
     ]
    }
   ],
   "source": [
    "abv = np.sort(np.round(abv, 1))\n",
    "abv = np.unique(abv)\n",
    "print(abv)"
   ]
  },
  {
   "cell_type": "markdown",
   "metadata": {},
   "source": [
    "Ta thấy ở trên là bảng các nồng độ cồn của từng loại bia đã được làm tròn 1 chữ số thập phân sau dấu phẩy. Và thật ngạc nhiên khi các loại bia có rất nhiều nồng độ cồn khác nhau nên ở đây mình sẽ không biết nồng độ cồn như thế nào là cao nên mình sẽ lấy 1 mốc là **từ 7 độ trở lên** thì bia sẽ được tính là có **nồng độ cồn cao**. Vì các loại bia ở việt nam các quán nhậu hay sử dụng thường có nồng độ cồn dưới 7 độ."
   ]
  },
  {
   "cell_type": "code",
   "execution_count": 22,
   "metadata": {},
   "outputs": [
    {
     "name": "stdout",
     "output_type": "stream",
     "text": [
      "review_overall\n",
      "4.0    235546\n",
      "4.5    146077\n",
      "3.5    102775\n",
      "3.0     44293\n",
      "5.0     41686\n",
      "2.5     14669\n",
      "2.0      9227\n",
      "1.0      2995\n",
      "1.5      2941\n",
      "Name: review_overall, dtype: int64\n"
     ]
    }
   ],
   "source": [
    "beer_abv_overall_2 = beer_reviews_df.groupby(beer_reviews_df['beer_abv'] > 7.0)['review_overall'].value_counts()\n",
    "# beer_abv_overall_2.sort_values('mean')\n",
    "beer_abv_overall_2 = beer_abv_overall_2[True]\n",
    "print(beer_abv_overall_2)"
   ]
  },
  {
   "cell_type": "markdown",
   "metadata": {},
   "source": [
    "**Thật ngạc nhiên, ở giá trị bia có nồng độ cồn trở lên lại không có điểm đánh giá tổng quan 5.0 ở đây mà chỉ có 4.5, nên nhìn sơ ta có thể thấy tỉ lệ bia ngon và nồng độ cao thấp hơn nhiều so với tổng số có nồng độ cồn trên 7 độ.**"
   ]
  },
  {
   "cell_type": "code",
   "execution_count": 23,
   "metadata": {},
   "outputs": [
    {
     "name": "stdout",
     "output_type": "stream",
     "text": [
      "Tỉ lệ:  0.2433768903831832\n"
     ]
    }
   ],
   "source": [
    "abv_45 = beer_abv_overall_2[4.5]\n",
    "abv_70 = beer_abv_overall_2.sum()\n",
    "print(\"Tỉ lệ: \", abv_45 / abv_70)"
   ]
  },
  {
   "cell_type": "markdown",
   "metadata": {},
   "source": [
    "Trả lời:\n",
    "\n",
    "**Bia có nồng độ trên 7 độ thì không ngon và uống bia rồi thì không nên lái xe nha các bạn.**"
   ]
  },
  {
   "cell_type": "markdown",
   "metadata": {},
   "source": [
    "Mà sẵn tiện Việt Nam mới áp dụng xử phạt thổi nồng độ cồn cho người lái xe máy nói riêng và các phương tiện giao thông nói chung, thi ta sẽ làm một số khảo sát nhỏ cho loại bia có nồng độ cồn dưới 1 thử xem là nó có ngon hay không?"
   ]
  },
  {
   "cell_type": "code",
   "execution_count": 24,
   "metadata": {},
   "outputs": [],
   "source": [
    "beer_abv_overall_3 = beer_reviews_df.groupby(beer_reviews_df['beer_abv'] < 1.0)['review_overall'].value_counts()\n",
    "beer_abv_overall_3 = beer_abv_overall_3[True]"
   ]
  },
  {
   "cell_type": "code",
   "execution_count": 25,
   "metadata": {},
   "outputs": [
    {
     "name": "stdout",
     "output_type": "stream",
     "text": [
      "Tỉ lệ:  0.04259438528557599\n"
     ]
    }
   ],
   "source": [
    "abv_45_50 = beer_abv_overall_3[4.5] + beer_abv_overall_3[5.0]\n",
    "abv_10 = beer_abv_overall_3.sum()\n",
    "\n",
    "print(\"Tỉ lệ: \", abv_45_50 / abv_10)"
   ]
  },
  {
   "cell_type": "markdown",
   "metadata": {},
   "source": [
    "Sự thật là các loại bia dưới 1.0 độ thì không được đánh giá cao rồi các, vậy nên nếu các bạn muốn thưởng thức hương vị bia thật sự thì không uống các loại bia dưới 1.0. Còn nếu uống với bạn với bè thì hãy nên uống các loại bia 0 độ cồn luôn.\n",
    "**Hãy lái xe an toàn, sau khi uống nha các bạn.**"
   ]
  }
 ],
 "metadata": {
  "kernelspec": {
   "display_name": "Python 3",
   "language": "python",
   "name": "python3"
  },
  "language_info": {
   "codemirror_mode": {
    "name": "ipython",
    "version": 3
   },
   "file_extension": ".py",
   "mimetype": "text/x-python",
   "name": "python",
   "nbconvert_exporter": "python",
   "pygments_lexer": "ipython3",
   "version": "3.8.3"
  }
 },
 "nbformat": 4,
 "nbformat_minor": 4
}
